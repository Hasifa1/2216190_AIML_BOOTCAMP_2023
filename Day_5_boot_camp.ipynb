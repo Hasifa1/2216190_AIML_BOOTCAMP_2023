{
  "nbformat": 4,
  "nbformat_minor": 0,
  "metadata": {
    "colab": {
      "provenance": [],
      "authorship_tag": "ABX9TyNgp3Wl4yvg8QBW7x9tgv+Y",
      "include_colab_link": true
    },
    "kernelspec": {
      "name": "python3",
      "display_name": "Python 3"
    },
    "language_info": {
      "name": "python"
    }
  },
  "cells": [
    {
      "cell_type": "markdown",
      "metadata": {
        "id": "view-in-github",
        "colab_type": "text"
      },
      "source": [
        "<a href=\"https://colab.research.google.com/github/Hasifa1/2216190_AIML_BOOTCAMP_2023/blob/main/Day_5_boot_camp.ipynb\" target=\"_parent\"><img src=\"https://colab.research.google.com/assets/colab-badge.svg\" alt=\"Open In Colab\"/></a>"
      ]
    },
    {
      "cell_type": "code",
      "execution_count": 1,
      "metadata": {
        "colab": {
          "base_uri": "https://localhost:8080/",
          "height": 206
        },
        "id": "n01tOrFcP0zs",
        "outputId": "938c3999-b594-44aa-9785-f0f4605017c9"
      },
      "outputs": [
        {
          "output_type": "error",
          "ename": "NameError",
          "evalue": "ignored",
          "traceback": [
            "\u001b[0;31m---------------------------------------------------------------------------\u001b[0m",
            "\u001b[0;31mNameError\u001b[0m                                 Traceback (most recent call last)",
            "\u001b[0;32m<ipython-input-1-8eae03d7e583>\u001b[0m in \u001b[0;36m<module>\u001b[0;34m\u001b[0m\n\u001b[1;32m      1\u001b[0m \u001b[0;31m#exception handling\u001b[0m\u001b[0;34m\u001b[0m\u001b[0;34m\u001b[0m\u001b[0;34m\u001b[0m\u001b[0m\n\u001b[1;32m      2\u001b[0m \u001b[0;31m#name error\u001b[0m\u001b[0;34m\u001b[0m\u001b[0;34m\u001b[0m\u001b[0;34m\u001b[0m\u001b[0m\n\u001b[0;32m----> 3\u001b[0;31m \u001b[0mprint\u001b[0m\u001b[0;34m(\u001b[0m\u001b[0md\u001b[0m\u001b[0;34m)\u001b[0m\u001b[0;34m\u001b[0m\u001b[0;34m\u001b[0m\u001b[0m\n\u001b[0m",
            "\u001b[0;31mNameError\u001b[0m: name 'd' is not defined"
          ]
        }
      ],
      "source": [
        "#exception handling\n",
        "#name error\n",
        "print(d)"
      ]
    },
    {
      "cell_type": "code",
      "source": [
        "#value error\n",
        "a='25abc'\n",
        "print(int(a))"
      ],
      "metadata": {
        "colab": {
          "base_uri": "https://localhost:8080/",
          "height": 206
        },
        "id": "yMarUlTwQMcT",
        "outputId": "cf6eaae1-22e4-4aa7-f166-4fd288726add"
      },
      "execution_count": 2,
      "outputs": [
        {
          "output_type": "error",
          "ename": "ValueError",
          "evalue": "ignored",
          "traceback": [
            "\u001b[0;31m---------------------------------------------------------------------------\u001b[0m",
            "\u001b[0;31mValueError\u001b[0m                                Traceback (most recent call last)",
            "\u001b[0;32m<ipython-input-2-d1b68f7f04a8>\u001b[0m in \u001b[0;36m<module>\u001b[0;34m\u001b[0m\n\u001b[1;32m      1\u001b[0m \u001b[0;31m#value error\u001b[0m\u001b[0;34m\u001b[0m\u001b[0;34m\u001b[0m\u001b[0;34m\u001b[0m\u001b[0m\n\u001b[1;32m      2\u001b[0m \u001b[0ma\u001b[0m\u001b[0;34m=\u001b[0m\u001b[0;34m'25abc'\u001b[0m\u001b[0;34m\u001b[0m\u001b[0;34m\u001b[0m\u001b[0m\n\u001b[0;32m----> 3\u001b[0;31m \u001b[0mprint\u001b[0m\u001b[0;34m(\u001b[0m\u001b[0mint\u001b[0m\u001b[0;34m(\u001b[0m\u001b[0ma\u001b[0m\u001b[0;34m)\u001b[0m\u001b[0;34m)\u001b[0m\u001b[0;34m\u001b[0m\u001b[0;34m\u001b[0m\u001b[0m\n\u001b[0m",
            "\u001b[0;31mValueError\u001b[0m: invalid literal for int() with base 10: '25abc'"
          ]
        }
      ]
    },
    {
      "cell_type": "code",
      "source": [
        "#zero division error\n",
        "d=10/0\n",
        "print(d)"
      ],
      "metadata": {
        "colab": {
          "base_uri": "https://localhost:8080/",
          "height": 206
        },
        "id": "TlwJ9FQOQTb9",
        "outputId": "f5696eb0-e18f-44cc-ceb9-b3e7117b1d98"
      },
      "execution_count": 3,
      "outputs": [
        {
          "output_type": "error",
          "ename": "ZeroDivisionError",
          "evalue": "ignored",
          "traceback": [
            "\u001b[0;31m---------------------------------------------------------------------------\u001b[0m",
            "\u001b[0;31mZeroDivisionError\u001b[0m                         Traceback (most recent call last)",
            "\u001b[0;32m<ipython-input-3-efb8d02b13a4>\u001b[0m in \u001b[0;36m<module>\u001b[0;34m\u001b[0m\n\u001b[1;32m      1\u001b[0m \u001b[0;31m#zero division error\u001b[0m\u001b[0;34m\u001b[0m\u001b[0;34m\u001b[0m\u001b[0;34m\u001b[0m\u001b[0m\n\u001b[0;32m----> 2\u001b[0;31m \u001b[0md\u001b[0m\u001b[0;34m=\u001b[0m\u001b[0;36m10\u001b[0m\u001b[0;34m/\u001b[0m\u001b[0;36m0\u001b[0m\u001b[0;34m\u001b[0m\u001b[0;34m\u001b[0m\u001b[0m\n\u001b[0m\u001b[1;32m      3\u001b[0m \u001b[0mprint\u001b[0m\u001b[0;34m(\u001b[0m\u001b[0md\u001b[0m\u001b[0;34m)\u001b[0m\u001b[0;34m\u001b[0m\u001b[0;34m\u001b[0m\u001b[0m\n",
            "\u001b[0;31mZeroDivisionError\u001b[0m: division by zero"
          ]
        }
      ]
    },
    {
      "cell_type": "code",
      "source": [
        "#key value error\n",
        "myd={1:'apple',2:'banana'}\n",
        "print(myd[3])"
      ],
      "metadata": {
        "colab": {
          "base_uri": "https://localhost:8080/",
          "height": 206
        },
        "id": "w_SUNeQiQfA7",
        "outputId": "f9ff810b-0dcb-4210-bada-01c489dd0687"
      },
      "execution_count": 6,
      "outputs": [
        {
          "output_type": "error",
          "ename": "KeyError",
          "evalue": "ignored",
          "traceback": [
            "\u001b[0;31m---------------------------------------------------------------------------\u001b[0m",
            "\u001b[0;31mKeyError\u001b[0m                                  Traceback (most recent call last)",
            "\u001b[0;32m<ipython-input-6-2b43810e9315>\u001b[0m in \u001b[0;36m<module>\u001b[0;34m\u001b[0m\n\u001b[1;32m      1\u001b[0m \u001b[0;31m#key value error\u001b[0m\u001b[0;34m\u001b[0m\u001b[0;34m\u001b[0m\u001b[0;34m\u001b[0m\u001b[0m\n\u001b[1;32m      2\u001b[0m \u001b[0mmyd\u001b[0m\u001b[0;34m=\u001b[0m\u001b[0;34m{\u001b[0m\u001b[0;36m1\u001b[0m\u001b[0;34m:\u001b[0m\u001b[0;34m'apple'\u001b[0m\u001b[0;34m,\u001b[0m\u001b[0;36m2\u001b[0m\u001b[0;34m:\u001b[0m\u001b[0;34m'banana'\u001b[0m\u001b[0;34m}\u001b[0m\u001b[0;34m\u001b[0m\u001b[0;34m\u001b[0m\u001b[0m\n\u001b[0;32m----> 3\u001b[0;31m \u001b[0mprint\u001b[0m\u001b[0;34m(\u001b[0m\u001b[0mmyd\u001b[0m\u001b[0;34m[\u001b[0m\u001b[0;36m3\u001b[0m\u001b[0;34m]\u001b[0m\u001b[0;34m)\u001b[0m\u001b[0;34m\u001b[0m\u001b[0;34m\u001b[0m\u001b[0m\n\u001b[0m",
            "\u001b[0;31mKeyError\u001b[0m: 3"
          ]
        }
      ]
    },
    {
      "cell_type": "code",
      "source": [
        "#index error\n",
        "li=[1,2,3,4]\n",
        "print(li[5])"
      ],
      "metadata": {
        "colab": {
          "base_uri": "https://localhost:8080/",
          "height": 206
        },
        "id": "NL77mU-fQrGt",
        "outputId": "178ffbcd-dde9-4a55-953a-f45070774f19"
      },
      "execution_count": 5,
      "outputs": [
        {
          "output_type": "error",
          "ename": "IndexError",
          "evalue": "ignored",
          "traceback": [
            "\u001b[0;31m---------------------------------------------------------------------------\u001b[0m",
            "\u001b[0;31mIndexError\u001b[0m                                Traceback (most recent call last)",
            "\u001b[0;32m<ipython-input-5-fdbfb0fc6ea5>\u001b[0m in \u001b[0;36m<module>\u001b[0;34m\u001b[0m\n\u001b[1;32m      1\u001b[0m \u001b[0;31m#index error\u001b[0m\u001b[0;34m\u001b[0m\u001b[0;34m\u001b[0m\u001b[0;34m\u001b[0m\u001b[0m\n\u001b[1;32m      2\u001b[0m \u001b[0mli\u001b[0m\u001b[0;34m=\u001b[0m\u001b[0;34m[\u001b[0m\u001b[0;36m1\u001b[0m\u001b[0;34m,\u001b[0m\u001b[0;36m2\u001b[0m\u001b[0;34m,\u001b[0m\u001b[0;36m3\u001b[0m\u001b[0;34m,\u001b[0m\u001b[0;36m4\u001b[0m\u001b[0;34m]\u001b[0m\u001b[0;34m\u001b[0m\u001b[0;34m\u001b[0m\u001b[0m\n\u001b[0;32m----> 3\u001b[0;31m \u001b[0mprint\u001b[0m\u001b[0;34m(\u001b[0m\u001b[0mli\u001b[0m\u001b[0;34m[\u001b[0m\u001b[0;36m5\u001b[0m\u001b[0;34m]\u001b[0m\u001b[0;34m)\u001b[0m\u001b[0;34m\u001b[0m\u001b[0;34m\u001b[0m\u001b[0m\n\u001b[0m",
            "\u001b[0;31mIndexError\u001b[0m: list index out of range"
          ]
        }
      ]
    },
    {
      "cell_type": "code",
      "source": [
        "#runtime error\n"
      ],
      "metadata": {
        "id": "pJFm-scDREKQ"
      },
      "execution_count": null,
      "outputs": []
    },
    {
      "cell_type": "code",
      "source": [
        "#type error\n",
        "a=10\n",
        "b='10'\n",
        "r=a/b"
      ],
      "metadata": {
        "colab": {
          "base_uri": "https://localhost:8080/",
          "height": 206
        },
        "id": "mqHHr-jDRfP4",
        "outputId": "c689b98f-0861-4a79-819c-55b2030d5f7a"
      },
      "execution_count": 7,
      "outputs": [
        {
          "output_type": "error",
          "ename": "TypeError",
          "evalue": "ignored",
          "traceback": [
            "\u001b[0;31m---------------------------------------------------------------------------\u001b[0m",
            "\u001b[0;31mTypeError\u001b[0m                                 Traceback (most recent call last)",
            "\u001b[0;32m<ipython-input-7-60bc22456611>\u001b[0m in \u001b[0;36m<module>\u001b[0;34m\u001b[0m\n\u001b[1;32m      2\u001b[0m \u001b[0ma\u001b[0m\u001b[0;34m=\u001b[0m\u001b[0;36m10\u001b[0m\u001b[0;34m\u001b[0m\u001b[0;34m\u001b[0m\u001b[0m\n\u001b[1;32m      3\u001b[0m \u001b[0mb\u001b[0m\u001b[0;34m=\u001b[0m\u001b[0;34m'10'\u001b[0m\u001b[0;34m\u001b[0m\u001b[0;34m\u001b[0m\u001b[0m\n\u001b[0;32m----> 4\u001b[0;31m \u001b[0mr\u001b[0m\u001b[0;34m=\u001b[0m\u001b[0ma\u001b[0m\u001b[0;34m/\u001b[0m\u001b[0mb\u001b[0m\u001b[0;34m\u001b[0m\u001b[0;34m\u001b[0m\u001b[0m\n\u001b[0m",
            "\u001b[0;31mTypeError\u001b[0m: unsupported operand type(s) for /: 'int' and 'str'"
          ]
        }
      ]
    },
    {
      "cell_type": "code",
      "source": [
        "#exception handling used when we expect an error\n",
        "#try,except,raise\n",
        "\n",
        "try:\n",
        "  print(x)\n",
        "except NameError as ne:\n",
        "  print(\"executed\",ne)\n",
        "print('exception executed')"
      ],
      "metadata": {
        "colab": {
          "base_uri": "https://localhost:8080/"
        },
        "id": "yyFbsoP8RmdQ",
        "outputId": "5622dea8-9cda-417f-b093-d7caa371702e"
      },
      "execution_count": 8,
      "outputs": [
        {
          "output_type": "stream",
          "name": "stdout",
          "text": [
            "executed name 'x' is not defined\n",
            "exception executed\n"
          ]
        }
      ]
    },
    {
      "cell_type": "code",
      "source": [
        "a='25abc'\n",
        "try:\n",
        "  print(int(a))\n",
        "except ValueError as ve:\n",
        "  print(ve)\n",
        "print('exception executed')"
      ],
      "metadata": {
        "colab": {
          "base_uri": "https://localhost:8080/"
        },
        "id": "BA505maqSu6i",
        "outputId": "5b383056-e5bb-464a-e3c7-0519aa4edfc5"
      },
      "execution_count": 10,
      "outputs": [
        {
          "output_type": "stream",
          "name": "stdout",
          "text": [
            "invalid literal for int() with base 10: '25abc'\n",
            "exception executed\n"
          ]
        }
      ]
    },
    {
      "cell_type": "code",
      "source": [
        "\n",
        "try:\n",
        "  print(10/0)\n",
        "except ZeroDivisionError as ze:\n",
        "  print(ze)\n",
        "print('exception executed')"
      ],
      "metadata": {
        "colab": {
          "base_uri": "https://localhost:8080/"
        },
        "id": "2YzLTybjTMFM",
        "outputId": "e69b88b4-60d4-42c4-ff60-e578ff4017e1"
      },
      "execution_count": 11,
      "outputs": [
        {
          "output_type": "stream",
          "name": "stdout",
          "text": [
            "division by zero\n",
            "exception executed\n"
          ]
        }
      ]
    },
    {
      "cell_type": "code",
      "source": [
        "mdt={1:'a',2:'b',3:'c'}\n",
        "try:\n",
        "  print(mdt[4])\n",
        "except KeyError as ke:\n",
        "  print(ke)\n",
        "print('exception executed')"
      ],
      "metadata": {
        "colab": {
          "base_uri": "https://localhost:8080/"
        },
        "id": "aWwUKaKRTZiT",
        "outputId": "e9476655-1532-492b-9dd5-53a16fb1d64e"
      },
      "execution_count": 21,
      "outputs": [
        {
          "output_type": "stream",
          "name": "stdout",
          "text": [
            "4\n",
            "exception executed\n"
          ]
        }
      ]
    },
    {
      "cell_type": "code",
      "source": [
        "li=[1,2,3,4]\n",
        "try:\n",
        "  print(li[5])\n",
        "except IndexError as ie:\n",
        "  print(ie)\n",
        "print('exception executed')"
      ],
      "metadata": {
        "colab": {
          "base_uri": "https://localhost:8080/"
        },
        "id": "cU2hzabYT8Oz",
        "outputId": "b458adf6-c7d7-42db-be19-f4e004bd638c"
      },
      "execution_count": 16,
      "outputs": [
        {
          "output_type": "stream",
          "name": "stdout",
          "text": [
            "list index out of range\n",
            "exception executed\n"
          ]
        }
      ]
    },
    {
      "cell_type": "code",
      "source": [
        "a=10\n",
        "b='10'\n",
        "try:\n",
        "  print(a/b)\n",
        "except TypeError as te:\n",
        "  print(te)\n",
        "print('exception executed')"
      ],
      "metadata": {
        "colab": {
          "base_uri": "https://localhost:8080/"
        },
        "id": "fTD53-UGUR4Z",
        "outputId": "160b05fe-94b6-4fb3-8964-19ee46484fc9"
      },
      "execution_count": 17,
      "outputs": [
        {
          "output_type": "stream",
          "name": "stdout",
          "text": [
            "unsupported operand type(s) for /: 'int' and 'str'\n",
            "exception executed\n"
          ]
        }
      ]
    },
    {
      "cell_type": "code",
      "source": [
        "class InvalidStudentID(Exception):\n",
        "  def __str__(self):\n",
        "    return \"ERROR RAISED\"\n",
        "stid=input(\"enter student id\")\n",
        "try:\n",
        "  if stid[:4]!='2003':\n",
        "    raise InvalidStudentID\n",
        "  else:\n",
        "    print(\"verified\")\n",
        "except InvalidStudentID as i:\n",
        "  print(i)\n",
        "print(\"details checked\")"
      ],
      "metadata": {
        "colab": {
          "base_uri": "https://localhost:8080/"
        },
        "id": "cBTGZlslWSey",
        "outputId": "ffb581b2-be26-43a1-93b6-025a6b114769"
      },
      "execution_count": 23,
      "outputs": [
        {
          "output_type": "stream",
          "name": "stdout",
          "text": [
            "enter student id21034562\n",
            "ERROR RAISED\n",
            "details checked\n"
          ]
        }
      ]
    },
    {
      "cell_type": "code",
      "source": [
        "class AgeException(Exception):\n",
        "  def __str__(self):\n",
        "    return \"cant vote\"\n",
        "age=int(input(\"enter ur age\"))\n",
        "try:\n",
        "  if(age<18):\n",
        "    raise AgeException\n",
        "  else:\n",
        "    print(\"u can cast ur vote\")\n",
        "except AgeException as ae:\n",
        "  print(ae)\n",
        "print(\"thank you\")\n"
      ],
      "metadata": {
        "colab": {
          "base_uri": "https://localhost:8080/"
        },
        "id": "Du_sGb-zXrIR",
        "outputId": "816fee2a-254b-470d-94f3-efcb347293f7"
      },
      "execution_count": 51,
      "outputs": [
        {
          "output_type": "stream",
          "name": "stdout",
          "text": [
            "enter ur age25\n",
            "u can cast ur vote\n",
            "thank you\n"
          ]
        }
      ]
    },
    {
      "cell_type": "code",
      "source": [
        "#modules\n",
        "import os\n",
        "os.mkdir(\"Hasi\")"
      ],
      "metadata": {
        "id": "k-EApPKiY5DI"
      },
      "execution_count": 27,
      "outputs": []
    },
    {
      "cell_type": "code",
      "source": [
        "os.chdir('Hasi')"
      ],
      "metadata": {
        "id": "RM1lD6GsZUbK"
      },
      "execution_count": 29,
      "outputs": []
    },
    {
      "cell_type": "code",
      "source": [
        "os.getcwd()\n",
        "os.listdir()\n",
        "os.rmdir('/content/Hasi')"
      ],
      "metadata": {
        "id": "GidQy2LLZaXJ"
      },
      "execution_count": 32,
      "outputs": []
    },
    {
      "cell_type": "code",
      "source": [
        "#math\n",
        "import math as m\n",
        "print(m.pi)\n",
        "print(m.e)\n",
        "print(m.cos(45))\n",
        "print(m.sqrt(4))\n",
        "print(m.factorial(5))\n",
        "print(m.pow(5,5))\n",
        "print(m.floor(-3.12))\n",
        "print(m.log(10))"
      ],
      "metadata": {
        "colab": {
          "base_uri": "https://localhost:8080/"
        },
        "id": "eFKYRsjBZoJC",
        "outputId": "768f42c7-2968-49ce-ffde-9142d341bde0"
      },
      "execution_count": 35,
      "outputs": [
        {
          "output_type": "stream",
          "name": "stdout",
          "text": [
            "3.141592653589793\n",
            "2.718281828459045\n",
            "0.5253219888177297\n",
            "2.0\n",
            "120\n",
            "3125.0\n",
            "-4\n",
            "2.302585092994046\n"
          ]
        }
      ]
    },
    {
      "cell_type": "code",
      "source": [
        "#sys module-info about system\n",
        "import sys\n",
        "print(sys.path)\n",
        "print(sys.version)\n",
        "print(sys.maxsize)"
      ],
      "metadata": {
        "colab": {
          "base_uri": "https://localhost:8080/"
        },
        "id": "nihr2ppnahRV",
        "outputId": "1327dfae-bea9-4ff7-d652-6b66ada42948"
      },
      "execution_count": 37,
      "outputs": [
        {
          "output_type": "stream",
          "name": "stdout",
          "text": [
            "['/content', '/env/python', '/usr/lib/python38.zip', '/usr/lib/python3.8', '/usr/lib/python3.8/lib-dynload', '', '/usr/local/lib/python3.8/dist-packages', '/usr/lib/python3/dist-packages', '/usr/local/lib/python3.8/dist-packages/IPython/extensions', '/root/.ipython']\n",
            "3.8.10 (default, Nov 14 2022, 12:59:47) \n",
            "[GCC 9.4.0]\n",
            "9223372036854775807\n"
          ]
        }
      ]
    },
    {
      "cell_type": "code",
      "source": [
        "#statistics module\n",
        "import statistics as s\n",
        "print(s.mean([1,11,2,3,4,5,55,6,7]))\n",
        "print(s.mode([1,11,2,3,4,5,55,6,7]))\n",
        "print(s.median([1,11,2,3,4,5,55,6,7]))"
      ],
      "metadata": {
        "colab": {
          "base_uri": "https://localhost:8080/"
        },
        "id": "AI2CYnEba9-x",
        "outputId": "9a37d522-77bd-4c4a-cad6-8a1802b34abc"
      },
      "execution_count": 38,
      "outputs": [
        {
          "output_type": "stream",
          "name": "stdout",
          "text": [
            "10.444444444444445\n",
            "1\n",
            "5\n"
          ]
        }
      ]
    },
    {
      "cell_type": "code",
      "source": [
        "#random module\n",
        "import random as r\n",
        "print(r.randrange(1,100))\n",
        "print(r.randint(1,100))\n",
        "print(r.random())"
      ],
      "metadata": {
        "colab": {
          "base_uri": "https://localhost:8080/"
        },
        "id": "v193jx4NbbdT",
        "outputId": "a4268cb0-cb77-4ebc-8ae5-ce7efa70a180"
      },
      "execution_count": 42,
      "outputs": [
        {
          "output_type": "stream",
          "name": "stdout",
          "text": [
            "36\n",
            "89\n",
            "0.6197609895386629\n"
          ]
        }
      ]
    },
    {
      "cell_type": "code",
      "source": [
        "import random\n",
        "n=int(input(\"predict a number\"))\n",
        "G=random.randint(1,5)\n",
        "if n==G:\n",
        "  print(\"u won\")\n",
        "else:\n",
        "  print(\"u loss\")\n",
        "print(G)"
      ],
      "metadata": {
        "colab": {
          "base_uri": "https://localhost:8080/"
        },
        "id": "zDZeX7Lrb6aD",
        "outputId": "bfad6a3b-b100-495b-fef1-acd5f20f6976"
      },
      "execution_count": 45,
      "outputs": [
        {
          "output_type": "stream",
          "name": "stdout",
          "text": [
            "predict a number5\n",
            "u won\n",
            "5\n"
          ]
        }
      ]
    },
    {
      "cell_type": "code",
      "source": [
        "#regular expressions\n",
        "import re\n",
        "pattern='COOKIE'\n",
        "sequence='cookie'\n",
        "if re.match(pattern,sequence):\n",
        "  print('matching expressions')\n",
        "else:\n",
        "  print('not a match')"
      ],
      "metadata": {
        "colab": {
          "base_uri": "https://localhost:8080/"
        },
        "id": "fPCNkGRIcflS",
        "outputId": "6e875965-f35e-4516-f958-d5cbb3447e5e"
      },
      "execution_count": 46,
      "outputs": [
        {
          "output_type": "stream",
          "name": "stdout",
          "text": [
            "not a match\n"
          ]
        }
      ]
    },
    {
      "cell_type": "code",
      "source": [
        "import re\n",
        "pno=input(\"enter mobile number\")\n",
        "print(re.search(r'\\d{10}',pno).group())"
      ],
      "metadata": {
        "colab": {
          "base_uri": "https://localhost:8080/"
        },
        "id": "V3jADNa9dMVE",
        "outputId": "f270ce0a-7b03-4cdc-f148-619f5963bcce"
      },
      "execution_count": 49,
      "outputs": [
        {
          "output_type": "stream",
          "name": "stdout",
          "text": [
            "enter mobile number8466955307\n",
            "8466955307\n"
          ]
        }
      ]
    }
  ]
}