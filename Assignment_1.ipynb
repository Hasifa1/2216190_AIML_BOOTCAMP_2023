{
  "nbformat": 4,
  "nbformat_minor": 0,
  "metadata": {
    "colab": {
      "provenance": [],
      "authorship_tag": "ABX9TyMxz5OjPmVFpTZEFP1obmud",
      "include_colab_link": true
    },
    "kernelspec": {
      "name": "python3",
      "display_name": "Python 3"
    },
    "language_info": {
      "name": "python"
    }
  },
  "cells": [
    {
      "cell_type": "markdown",
      "metadata": {
        "id": "view-in-github",
        "colab_type": "text"
      },
      "source": [
        "<a href=\"https://colab.research.google.com/github/Hasifa1/2216190_AIML_BOOTCAMP_2023/blob/main/Assignment_1.ipynb\" target=\"_parent\"><img src=\"https://colab.research.google.com/assets/colab-badge.svg\" alt=\"Open In Colab\"/></a>"
      ]
    },
    {
      "cell_type": "code",
      "execution_count": null,
      "metadata": {
        "colab": {
          "base_uri": "https://localhost:8080/",
          "height": 35
        },
        "id": "zgPDMBMjQxCg",
        "outputId": "bdb302e6-d6e4-453e-d09a-cb1ec76191a5"
      },
      "outputs": [
        {
          "output_type": "execute_result",
          "data": {
            "text/plain": [
              "'WAS I TAC A RO RAC A TI SAW'"
            ],
            "application/vnd.google.colaboratory.intrinsic+json": {
              "type": "string"
            }
          },
          "metadata": {},
          "execution_count": 2
        }
      ],
      "source": [
        "#16.\n",
        "str=\"was it a car or a cat I saw\"\n",
        "str[::-1].upper()"
      ]
    },
    {
      "cell_type": "code",
      "source": [
        "#15\n",
        "print(\"A series of characters designated as one object is known as a string\"[::-1][4::3])\n",
        "print(\"--------\")\n",
        "print(\"Welcome to python training program\"[3:10][::-1])"
      ],
      "metadata": {
        "colab": {
          "base_uri": "https://localhost:8080/"
        },
        "id": "7INwwFxAVg2z",
        "outputId": "96391152-c4d2-4e8c-93ab-08ca81a93ae3"
      },
      "execution_count": 107,
      "outputs": [
        {
          "output_type": "stream",
          "name": "stdout",
          "text": [
            "taawkicbe  tgestrcoeeA\n",
            "--------\n",
            "ot emoc\n"
          ]
        }
      ]
    },
    {
      "cell_type": "code",
      "source": [
        "#17.\n",
        "X=int(input())\n",
        "print(X*'Z'+2*X*'O')"
      ],
      "metadata": {
        "colab": {
          "base_uri": "https://localhost:8080/"
        },
        "id": "TBIF4BxQV0zo",
        "outputId": "022936e5-817b-4837-a50d-4f82d2511e95"
      },
      "execution_count": null,
      "outputs": [
        {
          "output_type": "stream",
          "name": "stdout",
          "text": [
            "5\n",
            "ZZZZZOOOOOOOOOO\n"
          ]
        }
      ]
    },
    {
      "cell_type": "code",
      "source": [
        "#6.\n",
        "x=2\n",
        "print(bin(x))\n",
        "print(hex(x))\n",
        "print(oct(x))\n",
        "print(id(x))  # prints address of variable\n",
        "print(ord('5'))  #ord() expected string of length 1, but int found\n",
        "print(ord('a'))  #ord() is used for ASCII values\n"
      ],
      "metadata": {
        "id": "ygYr5FClXtVY",
        "colab": {
          "base_uri": "https://localhost:8080/"
        },
        "outputId": "fee8eb02-f87e-4c83-ed50-398bc0077b59"
      },
      "execution_count": null,
      "outputs": [
        {
          "output_type": "stream",
          "name": "stdout",
          "text": [
            "0b10\n",
            "0x2\n",
            "0o2\n",
            "11530944\n",
            "53\n",
            "97\n"
          ]
        }
      ]
    },
    {
      "cell_type": "code",
      "source": [
        "#A)1.String methods\n",
        "str=\"I am Hasifa from Computer Science\"\n",
        "print(str.upper())\n",
        "print(str.lower())\n",
        "print(str.capitalize())\n",
        "print(str.title())\n",
        "print(str.swapcase())\n",
        "str=\"     I am Hasi   \"\n",
        "print(str.lstrip())"
      ],
      "metadata": {
        "colab": {
          "base_uri": "https://localhost:8080/"
        },
        "id": "RLNwDeyLd_dX",
        "outputId": "4bddded4-7032-4e12-b648-6f00c5b5bec7"
      },
      "execution_count": null,
      "outputs": [
        {
          "output_type": "stream",
          "name": "stdout",
          "text": [
            "I AM HASIFA FROM COMPUTER SCIENCE\n",
            "i am hasifa from computer science\n",
            "I am hasifa from computer science\n",
            "I Am Hasifa From Computer Science\n",
            "i AM hASIFA FROM cOMPUTER sCIENCE\n",
            "I am Hasi   \n"
          ]
        }
      ]
    },
    {
      "cell_type": "code",
      "source": [
        "#2.List methods\n",
        "li=[1,1,2,3,['a','b','c'],'apple','dog']\n",
        "print(li)\n",
        "li.append(5)\n",
        "print(li)\n",
        "cpli=[]\n",
        "cpli=li.copy()\n",
        "print(cpli)\n",
        "li.count(1)#counts number of occurrences of 1\n",
        "li.extend(['pencil','pen','eraser'])\n",
        "print(li)\n",
        "print(li.index('pencil'))\n",
        "li.insert(1,'hasi')\n",
        "print(li)\n",
        "li.pop()\n",
        "print(li)#last element is deleted\n",
        "li.pop(5)# 5th index element is popped\n",
        "print(li)\n",
        "li.remove(1)#deleted 1st occurrence of 1\n",
        "print(li)\n",
        "cpli.reverse()\n",
        "print(cpli)\n",
        "num_list=[1,4,2,5,82,11,0]\n",
        "num_list.sort()\n",
        "print(num_list)\n"
      ],
      "metadata": {
        "id": "JU8ImUqeKmBk",
        "colab": {
          "base_uri": "https://localhost:8080/"
        },
        "outputId": "be8e28e5-9270-4c85-9729-817566bfe709"
      },
      "execution_count": null,
      "outputs": [
        {
          "output_type": "stream",
          "name": "stdout",
          "text": [
            "[1, 1, 2, 3, ['a', 'b', 'c'], 'apple', 'dog']\n",
            "[1, 1, 2, 3, ['a', 'b', 'c'], 'apple', 'dog', 5]\n",
            "[1, 1, 2, 3, ['a', 'b', 'c'], 'apple', 'dog', 5]\n",
            "[1, 1, 2, 3, ['a', 'b', 'c'], 'apple', 'dog', 5, 'pencil', 'pen', 'eraser']\n",
            "8\n",
            "[1, 'hasi', 1, 2, 3, ['a', 'b', 'c'], 'apple', 'dog', 5, 'pencil', 'pen', 'eraser']\n",
            "[1, 'hasi', 1, 2, 3, ['a', 'b', 'c'], 'apple', 'dog', 5, 'pencil', 'pen']\n",
            "[1, 'hasi', 1, 2, 3, 'apple', 'dog', 5, 'pencil', 'pen']\n",
            "['hasi', 1, 2, 3, 'apple', 'dog', 5, 'pencil', 'pen']\n",
            "[5, 'dog', 'apple', ['a', 'b', 'c'], 3, 2, 1, 1]\n",
            "[0, 1, 2, 4, 5, 11, 82]\n"
          ]
        }
      ]
    },
    {
      "cell_type": "code",
      "source": [
        "#3.tuple methods\n",
        "tp=(1,1,2,3,['a','b','c'],'apple','dog')\n",
        "print(tp)\n",
        "tp[5]\n",
        "print(tp.count(3))\n",
        "print(tp.index('apple'))\n",
        "print(len(tp))"
      ],
      "metadata": {
        "colab": {
          "base_uri": "https://localhost:8080/"
        },
        "id": "WyoP2jkoQ6go",
        "outputId": "2aa9100b-5e37-4cf7-d396-4cd006af7866"
      },
      "execution_count": null,
      "outputs": [
        {
          "output_type": "stream",
          "name": "stdout",
          "text": [
            "(1, 1, 2, 3, ['a', 'b', 'c'], 'apple', 'dog')\n",
            "1\n",
            "5\n",
            "7\n"
          ]
        }
      ]
    },
    {
      "cell_type": "code",
      "source": [
        "#4.dictionary methods\n",
        "dct={1:'Hasifa',2:'teju',3:'Varshitha',4:'Vineela',5:'Roshini',6:'Nisha'}\n",
        "print(dct)\n",
        "print(dct.keys())\n",
        "print(dct.values())\n",
        "#dir(dct)\n",
        "print(dct.pop(2))\n",
        "print(dct[6])\n",
        "dct.update({2:'Chaithanya'})\n",
        "print(dct)\n"
      ],
      "metadata": {
        "colab": {
          "base_uri": "https://localhost:8080/"
        },
        "id": "0BHXRaNCR9N1",
        "outputId": "3c501aa4-323e-49bf-b67c-3cf520ebf604"
      },
      "execution_count": null,
      "outputs": [
        {
          "output_type": "stream",
          "name": "stdout",
          "text": [
            "{1: 'Hasifa', 2: 'teju', 3: 'Varshitha', 4: 'Vineela', 5: 'Roshini', 6: 'Nisha'}\n",
            "dict_keys([1, 2, 3, 4, 5, 6])\n",
            "dict_values(['Hasifa', 'teju', 'Varshitha', 'Vineela', 'Roshini', 'Nisha'])\n",
            "teju\n",
            "Nisha\n",
            "{1: 'Hasifa', 3: 'Varshitha', 4: 'Vineela', 5: 'Roshini', 6: 'Nisha', 2: 'Chaithanya'}\n"
          ]
        }
      ]
    },
    {
      "cell_type": "code",
      "source": [
        "#5.set methods\n",
        "a={1,2,3,4}\n",
        "b={4,5,6,7}\n",
        "print(a|b)\n",
        "print(a.union(b))\n",
        "print(b.union(a))\n",
        "print(a&b)\n",
        "print(a.intersection(b))\n",
        "print(a-b)\n",
        "print(a.difference(b))\n",
        "print(b-a)\n",
        "c={1,2}\n",
        "print(c.issubset(a))\n",
        "print(c.issubset(b))\n",
        "print(a.isdisjoint(b))\n",
        "print(a.issuperset(c))\n",
        "print(a.pop())\n",
        "print(b.pop())\n",
        "print(a|b)\n",
        "print(a)\n",
        "a.remove(2)\n",
        "print(a)"
      ],
      "metadata": {
        "id": "mHlKJBxEV9lZ",
        "colab": {
          "base_uri": "https://localhost:8080/"
        },
        "outputId": "6ae2be10-e300-45ae-d4fd-570341ab61a4"
      },
      "execution_count": null,
      "outputs": [
        {
          "output_type": "stream",
          "name": "stdout",
          "text": [
            "{1, 2, 3, 4, 5, 6, 7}\n",
            "{1, 2, 3, 4, 5, 6, 7}\n",
            "{1, 2, 3, 4, 5, 6, 7}\n",
            "{4}\n",
            "{4}\n",
            "{1, 2, 3}\n",
            "{1, 2, 3}\n",
            "{5, 6, 7}\n",
            "True\n",
            "False\n",
            "False\n",
            "True\n",
            "1\n",
            "4\n",
            "{2, 3, 4, 5, 6, 7}\n",
            "{2, 3, 4}\n",
            "{3, 4}\n"
          ]
        }
      ]
    },
    {
      "cell_type": "code",
      "source": [
        "#7.Arithmatic operators\n",
        "a=1\n",
        "b=2\n",
        "print(a+b)\n",
        "print(a-b)\n",
        "print(a*b)\n",
        "print(a/b)\n",
        "print(a//b)\n",
        "print(a**b)\n",
        "print(a%b)"
      ],
      "metadata": {
        "id": "dM15uBJNZej8",
        "colab": {
          "base_uri": "https://localhost:8080/"
        },
        "outputId": "9b722e0a-639a-4a0d-af34-adab567bc83a"
      },
      "execution_count": 86,
      "outputs": [
        {
          "output_type": "stream",
          "name": "stdout",
          "text": [
            "3\n",
            "-1\n",
            "2\n",
            "0.5\n",
            "0\n",
            "1\n",
            "1\n"
          ]
        }
      ]
    },
    {
      "cell_type": "code",
      "source": [
        "#8.assignment operators\n",
        "a=10\n",
        "b=5\n",
        "c=0\n",
        "c+=a\n",
        "print(c)\n",
        "c-=b\n",
        "print(c)\n",
        "c*=a\n",
        "print(c)\n",
        "c/=b\n",
        "print(c)\n",
        "c//=a\n",
        "print(c)"
      ],
      "metadata": {
        "colab": {
          "base_uri": "https://localhost:8080/"
        },
        "id": "qr5w9h_5Z-rj",
        "outputId": "42c44fe0-dd4b-46c3-d07d-0bf30376de94"
      },
      "execution_count": 92,
      "outputs": [
        {
          "output_type": "stream",
          "name": "stdout",
          "text": [
            "10\n",
            "5\n",
            "50\n",
            "10.0\n",
            "1.0\n"
          ]
        }
      ]
    },
    {
      "cell_type": "code",
      "source": [
        "#9.comparision operators\n",
        "print(a==b)\n",
        "print(a>b)\n",
        "print(a<b)\n",
        "print(a!=b)\n",
        "print(a>=b)\n",
        "print(a<=b)"
      ],
      "metadata": {
        "colab": {
          "base_uri": "https://localhost:8080/"
        },
        "id": "mb7WapbcalaP",
        "outputId": "173a77e0-05e4-42e9-9a83-5940e7cd84d5"
      },
      "execution_count": 94,
      "outputs": [
        {
          "output_type": "stream",
          "name": "stdout",
          "text": [
            "False\n",
            "True\n",
            "False\n",
            "True\n",
            "True\n",
            "False\n"
          ]
        }
      ]
    },
    {
      "cell_type": "code",
      "source": [
        "#10.logical operators\n",
        "x=True\n",
        "y=False\n",
        "print(\"x and y is:\",x and y)\n",
        "print(\"x or y is\",x or y)\n",
        "print(\"not y is\",not y)"
      ],
      "metadata": {
        "colab": {
          "base_uri": "https://localhost:8080/"
        },
        "id": "QmT5TI8ua38c",
        "outputId": "d9150ad3-9315-4aba-bb55-4aec34e8f7c9"
      },
      "execution_count": 96,
      "outputs": [
        {
          "output_type": "stream",
          "name": "stdout",
          "text": [
            "x and y is: False\n",
            "x or y is True\n",
            "not y is True\n"
          ]
        }
      ]
    },
    {
      "cell_type": "code",
      "source": [
        "#11.bitwise operators\n",
        "a=13 #1101\n",
        "b=14 #1110\n",
        "\n",
        "print(a&b)\n",
        "print(a|b)\n",
        "print(~a)\n",
        "print(a>>3)#right shift divides by 2, 3 times\n",
        "print(a<<4)\n",
        "print(a^b)"
      ],
      "metadata": {
        "colab": {
          "base_uri": "https://localhost:8080/"
        },
        "id": "60QHOcidbNA6",
        "outputId": "01ab021c-a3a5-4536-d13b-28a639f23075"
      },
      "execution_count": 97,
      "outputs": [
        {
          "output_type": "stream",
          "name": "stdout",
          "text": [
            "12\n",
            "15\n",
            "-14\n",
            "1\n",
            "208\n",
            "3\n"
          ]
        }
      ]
    },
    {
      "cell_type": "code",
      "source": [
        "#12.membership operators\n",
        "x=\"hasifa\"\n",
        "print(\"c\" in x)"
      ],
      "metadata": {
        "colab": {
          "base_uri": "https://localhost:8080/"
        },
        "id": "2moN7oE0bYJM",
        "outputId": "35a1429c-d730-4071-b155-55402ee083ce"
      },
      "execution_count": 98,
      "outputs": [
        {
          "output_type": "stream",
          "name": "stdout",
          "text": [
            "False\n"
          ]
        }
      ]
    },
    {
      "cell_type": "code",
      "source": [
        "#13.identity operators\n",
        "x1=5\n",
        "y1=5\n",
        "x2=\"hello\"\n",
        "y2=\"hello\"\n",
        "x3=[1,2,3]\n",
        "y3=[1,2,3]\n",
        "print(x1 is not y1)\n",
        "print(x2 is y2)\n",
        "print(x3 is y3)"
      ],
      "metadata": {
        "colab": {
          "base_uri": "https://localhost:8080/"
        },
        "id": "nKROoYhSbekC",
        "outputId": "3b66242d-c732-485e-99b3-57a280b0d61b"
      },
      "execution_count": 100,
      "outputs": [
        {
          "output_type": "stream",
          "name": "stdout",
          "text": [
            "False\n",
            "True\n",
            "False\n"
          ]
        }
      ]
    },
    {
      "cell_type": "code",
      "source": [
        "#14.negative indexing in list\n",
        "li=[1,2,3,4,['a','b',['apple','banana',[22,33]]],6,7]\n",
        "print(li[-1])\n",
        "print(li[::-1])\n",
        "print(li[0:4])\n",
        "print(li[4][2][0][0:3])"
      ],
      "metadata": {
        "colab": {
          "base_uri": "https://localhost:8080/"
        },
        "id": "FQINcy96bnR3",
        "outputId": "2c556c56-b4f8-4a1e-8609-f273ef19ec93"
      },
      "execution_count": 105,
      "outputs": [
        {
          "output_type": "stream",
          "name": "stdout",
          "text": [
            "7\n",
            "[7, 6, ['a', 'b', ['apple', 'banana', [22, 33]]], 4, 3, 2, 1]\n",
            "[1, 2, 3, 4]\n",
            "app\n"
          ]
        }
      ]
    }
  ]
}