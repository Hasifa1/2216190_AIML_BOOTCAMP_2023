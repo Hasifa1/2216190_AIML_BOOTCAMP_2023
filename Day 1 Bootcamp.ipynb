{
 "cells": [
  {
   "cell_type": "code",
   "execution_count": 2,
   "id": "41947c49",
   "metadata": {},
   "outputs": [
    {
     "name": "stdout",
     "output_type": "stream",
     "text": [
      "100 hasi\n",
      "1.0 2.0\n"
     ]
    }
   ],
   "source": [
    "#variables\n",
    "a=100\n",
    "str1=\"hasi\"\n",
    "comp=1+2j\n",
    "print(a,str1)\n",
    "print(comp.real,comp.imag)"
   ]
  },
  {
   "cell_type": "code",
   "execution_count": 17,
   "id": "96ceddb9",
   "metadata": {},
   "outputs": [
    {
     "name": "stdout",
     "output_type": "stream",
     "text": [
      "b'Hello'\n"
     ]
    }
   ],
   "source": [
    "#datatypes\n",
    "#int type\n",
    "a=100\n",
    "b=1+2j\n",
    "\n",
    "#float types\n",
    "am=200.00\n",
    "\n",
    "#text type\n",
    "str=\"hi\"\n",
    "\n",
    "#sequence type\n",
    "li=[1,2,3]\n",
    "tup=(1,2,3)\n",
    "\n",
    "#set type\n",
    "set1={1,2,3,4}\n",
    "\n",
    "\n",
    "#mapping type\n",
    "my_dict={\"apple\":\"red\"}\n",
    "\n",
    "#binary type\n",
    "x=b\"Hello\"  #byte\n",
    "#x=bytearray(5) #bytearray\n",
    "#x=memoryview(bytes(4)) #memory view\n",
    "print(x)"
   ]
  },
  {
   "cell_type": "code",
   "execution_count": 14,
   "id": "f4219589",
   "metadata": {},
   "outputs": [
    {
     "name": "stdout",
     "output_type": "stream",
     "text": [
      "3 2.0\n",
      "6.0\n"
     ]
    },
    {
     "ename": "TypeError",
     "evalue": "'str' object is not callable",
     "output_type": "error",
     "traceback": [
      "\u001b[1;31m---------------------------------------------------------------------------\u001b[0m",
      "\u001b[1;31mTypeError\u001b[0m                                 Traceback (most recent call last)",
      "\u001b[1;32m~\\AppData\\Local\\Temp/ipykernel_9716/406758432.py\u001b[0m in \u001b[0;36m<module>\u001b[1;34m\u001b[0m\n\u001b[0;32m      8\u001b[0m \u001b[0mprint\u001b[0m\u001b[1;33m(\u001b[0m\u001b[0mc\u001b[0m\u001b[1;33m+\u001b[0m\u001b[0md\u001b[0m\u001b[1;33m)\u001b[0m\u001b[1;33m\u001b[0m\u001b[1;33m\u001b[0m\u001b[0m\n\u001b[0;32m      9\u001b[0m \u001b[0ma\u001b[0m\u001b[1;33m=\u001b[0m\u001b[1;36m2\u001b[0m\u001b[1;33m\u001b[0m\u001b[1;33m\u001b[0m\u001b[0m\n\u001b[1;32m---> 10\u001b[1;33m \u001b[0mb\u001b[0m\u001b[1;33m=\u001b[0m\u001b[0mstr\u001b[0m\u001b[1;33m(\u001b[0m\u001b[0ma\u001b[0m\u001b[1;33m)\u001b[0m\u001b[1;33m\u001b[0m\u001b[1;33m\u001b[0m\u001b[0m\n\u001b[0m\u001b[0;32m     11\u001b[0m \u001b[1;31m#int to string is not possible\u001b[0m\u001b[1;33m\u001b[0m\u001b[1;33m\u001b[0m\u001b[0m\n",
      "\u001b[1;31mTypeError\u001b[0m: 'str' object is not callable"
     ]
    }
   ],
   "source": [
    "#typecasting\n",
    "\n",
    "b=2\n",
    "c=3.0\n",
    "d=int(c)\n",
    "e=float(b)\n",
    "print(d,e)\n",
    "print(c+d)\n",
    "a=2\n",
    "b=str(a)\n",
    "#int to string is not possible"
   ]
  },
  {
   "cell_type": "code",
   "execution_count": null,
   "id": "618ebaed",
   "metadata": {},
   "outputs": [],
   "source": []
  }
 ],
 "metadata": {
  "kernelspec": {
   "display_name": "Python 3 (ipykernel)",
   "language": "python",
   "name": "python3"
  },
  "language_info": {
   "codemirror_mode": {
    "name": "ipython",
    "version": 3
   },
   "file_extension": ".py",
   "mimetype": "text/x-python",
   "name": "python",
   "nbconvert_exporter": "python",
   "pygments_lexer": "ipython3",
   "version": "3.9.7"
  }
 },
 "nbformat": 4,
 "nbformat_minor": 5
}
