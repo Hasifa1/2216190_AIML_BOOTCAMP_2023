{
  "nbformat": 4,
  "nbformat_minor": 0,
  "metadata": {
    "colab": {
      "provenance": [],
      "authorship_tag": "ABX9TyO0/Rj0ha05n3Hpop3Y3YBB",
      "include_colab_link": true
    },
    "kernelspec": {
      "name": "python3",
      "display_name": "Python 3"
    },
    "language_info": {
      "name": "python"
    }
  },
  "cells": [
    {
      "cell_type": "markdown",
      "metadata": {
        "id": "view-in-github",
        "colab_type": "text"
      },
      "source": [
        "<a href=\"https://colab.research.google.com/github/Hasifa1/2216190_AIML_BOOTCAMP_2023/blob/main/Day_4_boot_camp.ipynb\" target=\"_parent\"><img src=\"https://colab.research.google.com/assets/colab-badge.svg\" alt=\"Open In Colab\"/></a>"
      ]
    },
    {
      "cell_type": "code",
      "execution_count": 3,
      "metadata": {
        "colab": {
          "base_uri": "https://localhost:8080/"
        },
        "id": "S1qD3YoBETzg",
        "outputId": "50e60974-e5f4-4912-c511-bdabcd86f459"
      },
      "outputs": [
        {
          "output_type": "stream",
          "name": "stdout",
          "text": [
            "5\n"
          ]
        },
        {
          "output_type": "execute_result",
          "data": {
            "text/plain": [
              "5"
            ]
          },
          "metadata": {},
          "execution_count": 3
        }
      ],
      "source": [
        "#lambda function-can take any number of arguments but has only one expression\n",
        "def inc(x):\n",
        "  x=x+1\n",
        "  return x\n",
        "print((lambda x: x+1)(4))\n",
        "inc(4)"
      ]
    },
    {
      "cell_type": "code",
      "source": [
        "print((lambda x: x**2)(5))\n",
        "print((lambda x,y:x**y)(2,2))"
      ],
      "metadata": {
        "colab": {
          "base_uri": "https://localhost:8080/"
        },
        "id": "Y7YOupQNFFXg",
        "outputId": "f0d25bab-b95f-4bdf-f9a2-dea5fd3ca772"
      },
      "execution_count": 5,
      "outputs": [
        {
          "output_type": "stream",
          "name": "stdout",
          "text": [
            "25\n",
            "4\n"
          ]
        }
      ]
    },
    {
      "cell_type": "code",
      "source": [
        "#map function  map(fun,iter)\n",
        "li=[1,2,3,4]\n",
        "def fun(num):\n",
        "  return num+2\n",
        "res_list=list(map(fun,li))\n",
        "print(res_list)\n",
        "print(list(map(lambda x:x+2,li)))"
      ],
      "metadata": {
        "colab": {
          "base_uri": "https://localhost:8080/"
        },
        "id": "xK9KnZsoFTj6",
        "outputId": "08b4c1f8-277d-4ad6-d95e-a8d718f23c0a"
      },
      "execution_count": 8,
      "outputs": [
        {
          "output_type": "stream",
          "name": "stdout",
          "text": [
            "[3, 4, 5, 6]\n",
            "[3, 4, 5, 6]\n"
          ]
        }
      ]
    },
    {
      "cell_type": "code",
      "source": [
        "li=['apple','banana','cherry']\n",
        "print(list(map(lambda x:x.capitalize(),li)))\n",
        "s1={'a','b','cc','d'}\n",
        "print(list(map(lambda x:x.title(),s1)))\n",
        "print(list(map(lambda x:x.lower(),li)))\n",
        "print(list(map(lambda x:x.upper(),li)))\n",
        "print(list(map(lambda x:x.islower(),li)))"
      ],
      "metadata": {
        "colab": {
          "base_uri": "https://localhost:8080/"
        },
        "id": "7H5Y_cmBF9Qy",
        "outputId": "37895944-bb8b-41ad-cf8d-4117a407a9a9"
      },
      "execution_count": 17,
      "outputs": [
        {
          "output_type": "stream",
          "name": "stdout",
          "text": [
            "['Apple', 'Banana', 'Cherry']\n",
            "['B', 'D', 'Cc', 'A']\n",
            "['apple', 'banana', 'cherry']\n",
            "['APPLE', 'BANANA', 'CHERRY']\n",
            "[True, True, True]\n"
          ]
        }
      ]
    },
    {
      "cell_type": "code",
      "source": [
        "def eor(num):\n",
        "  if num%2==0:\n",
        "    return 'the number {}is even'.format(num)\n",
        "  else:\n",
        "    return 'the number {} is odd'.format(num)\n",
        "l2=[1,2,3,4,5,6,7]\n",
        "print(list(map(eor,l2)))"
      ],
      "metadata": {
        "colab": {
          "base_uri": "https://localhost:8080/"
        },
        "id": "S_EHePbMIbP7",
        "outputId": "23c5f3a3-2404-499d-bfa4-96429836e2ca"
      },
      "execution_count": 24,
      "outputs": [
        {
          "output_type": "stream",
          "name": "stdout",
          "text": [
            "['the number 1 is odd', 'the number 2is even', 'the number 3 is odd', 'the number 4is even', 'the number 5 is odd', 'the number 6is even', 'the number 7 is odd']\n"
          ]
        }
      ]
    },
    {
      "cell_type": "code",
      "source": [
        "#filter method\n",
        "def odd_num(n):\n",
        "  if n%2!=0:\n",
        "    return n\n",
        "myl=[3,6,24,8,45,1]\n",
        "print(list(filter(odd_num,myl)))#filters the elements of iterable as required\n",
        "print(list(map(odd_num,myl)))#maps every element of the iterable"
      ],
      "metadata": {
        "colab": {
          "base_uri": "https://localhost:8080/"
        },
        "id": "SfhOIAKwJGwC",
        "outputId": "829bada9-b2b6-475f-c3df-8ca9fd9e83ae"
      },
      "execution_count": 28,
      "outputs": [
        {
          "output_type": "stream",
          "name": "stdout",
          "text": [
            "[3, 45, 1]\n",
            "[3, None, None, None, 45, 1]\n"
          ]
        }
      ]
    },
    {
      "cell_type": "code",
      "source": [
        "print(list(filter(lambda x:x%2!=0,myl)))"
      ],
      "metadata": {
        "colab": {
          "base_uri": "https://localhost:8080/"
        },
        "id": "oF1IMH0-KRrm",
        "outputId": "f996c9c2-87fc-4751-d81f-7074679cfa21"
      },
      "execution_count": 30,
      "outputs": [
        {
          "output_type": "stream",
          "name": "stdout",
          "text": [
            "[3, 45, 1]\n"
          ]
        }
      ]
    },
    {
      "cell_type": "code",
      "source": [
        "#OOP Principles\n",
        "#class and object\n",
        "class C:\n",
        "  def addn(self,a,b):\n",
        "    return a+b\n",
        "  def subn(self,a,b):\n",
        "    return a-b\n",
        "O=C()\n",
        "print(\"addition:\",O.addn(5,5))\n",
        "print(\"subtraction\",O.subn(5,5))"
      ],
      "metadata": {
        "colab": {
          "base_uri": "https://localhost:8080/"
        },
        "id": "pXzTBy7UMBwM",
        "outputId": "76201047-8741-44a7-af70-8a81b9e0999b"
      },
      "execution_count": 31,
      "outputs": [
        {
          "output_type": "stream",
          "name": "stdout",
          "text": [
            "addition: 10\n",
            "subtraction 0\n"
          ]
        }
      ]
    },
    {
      "cell_type": "code",
      "source": [
        "#inheritance\n",
        "#simple inheritance\n",
        "class Animal:\n",
        "  def animal_sounds(self):\n",
        "    return \"makes sound\"\n",
        "class cat(Animal):\n",
        "  def cat_sound(self):\n",
        "    return self.animal_sounds()+\" MEOW\"\n",
        "  def __str__(self):\n",
        "    return \"cat\"\n",
        "co=cat()\n",
        "print(co,co.cat_sound())"
      ],
      "metadata": {
        "colab": {
          "base_uri": "https://localhost:8080/"
        },
        "id": "I1mUxCNJNjbe",
        "outputId": "b4810aab-8b55-4db6-9aae-34e9125de90e"
      },
      "execution_count": 35,
      "outputs": [
        {
          "output_type": "stream",
          "name": "stdout",
          "text": [
            "cat makes soundMEOW\n"
          ]
        }
      ]
    },
    {
      "cell_type": "code",
      "source": [
        "#hierarchial inheritance\n",
        "class Animal:\n",
        "  def animal_sounds(self):\n",
        "    return \"makes sound\"\n",
        "class cat(Animal):\n",
        "  def cat_sound(self):\n",
        "    return self.animal_sounds()+\" MEOW\"\n",
        "  def __str__(self):\n",
        "    return \"cat\"\n",
        "class dog(Animal):\n",
        "  def dog_sound(self):\n",
        "    return self.animal_sounds()+\" BOW\"\n",
        "  def __str__(self):\n",
        "   return \"dog\"\n",
        "co=cat()\n",
        "print(co,co.cat_sound())\n",
        "bo=dog()\n",
        "print(bo,bo.dog_sound())"
      ],
      "metadata": {
        "colab": {
          "base_uri": "https://localhost:8080/"
        },
        "id": "PrVPPerSP1eY",
        "outputId": "fd14fc8a-aa92-43c6-d67c-f7022fcaa65c"
      },
      "execution_count": 36,
      "outputs": [
        {
          "output_type": "stream",
          "name": "stdout",
          "text": [
            "cat makes sound MEOW\n",
            "dog makes sound BOW\n"
          ]
        }
      ]
    },
    {
      "cell_type": "code",
      "source": [
        "class Animal:\n",
        "  def animal_sounds(self):\n",
        "    return \"makes sound\"\n",
        "class cat(Animal):\n",
        "  def cat_sound(self):\n",
        "    return self.animal_sounds()+\" MEOW\"\n",
        "  def __str__(self):\n",
        "    return \"cat\"\n",
        "class cat_col(cat):\n",
        "  def color(self):\n",
        "    return \"color is black\"\n",
        "  def __str__(self):\n",
        "   return \"cat\"\n",
        "cc=cat_col()\n",
        "print(cc,cc.cat_sound())\n",
        "print(cc,cc.color())"
      ],
      "metadata": {
        "colab": {
          "base_uri": "https://localhost:8080/"
        },
        "id": "iAFeOHt4RyUJ",
        "outputId": "d49494af-69c6-4a15-9f78-dad7b415abc4"
      },
      "execution_count": 42,
      "outputs": [
        {
          "output_type": "stream",
          "name": "stdout",
          "text": [
            "cat makes sound MEOW\n",
            "cat color is black\n"
          ]
        }
      ]
    },
    {
      "cell_type": "code",
      "source": [
        "class A:\n",
        "  def a(self):\n",
        "    return \"from A\"\n",
        "class B(A):\n",
        "  def b(self):\n",
        "    return self.a()+\"\\n from B\"\n",
        "  def __str__(self):\n",
        "    return \"B\"\n",
        "class C(B):\n",
        "  def c(self):\n",
        "    return self.b()+\"\\n from C\"\n",
        "  def __str__(self):\n",
        "   return \"C\"\n",
        "o_a=A()\n",
        "o_b=B()\n",
        "o_c=C()\n",
        "print(o_c,o_c.c())\n",
        "print(o_b,o_b.b())"
      ],
      "metadata": {
        "colab": {
          "base_uri": "https://localhost:8080/"
        },
        "id": "aHIpJpZ1QkhX",
        "outputId": "e21688a9-2c01-438f-f92a-6a2582a2181d"
      },
      "execution_count": 49,
      "outputs": [
        {
          "output_type": "stream",
          "name": "stdout",
          "text": [
            "C from A\n",
            " from B\n",
            " from C\n",
            "B from A\n",
            " from B\n"
          ]
        }
      ]
    }
  ]
}