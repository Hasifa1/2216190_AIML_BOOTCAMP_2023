{
  "nbformat": 4,
  "nbformat_minor": 0,
  "metadata": {
    "colab": {
      "provenance": [],
      "authorship_tag": "ABX9TyNjWmkYyZJKXjZ3E28NQn6u",
      "include_colab_link": true
    },
    "kernelspec": {
      "name": "python3",
      "display_name": "Python 3"
    },
    "language_info": {
      "name": "python"
    }
  },
  "cells": [
    {
      "cell_type": "markdown",
      "metadata": {
        "id": "view-in-github",
        "colab_type": "text"
      },
      "source": [
        "<a href=\"https://colab.research.google.com/github/Hasifa1/2216190_AIML_BOOTCAMP_2023/blob/main/Day_2_boot_camp_2023.ipynb\" target=\"_parent\"><img src=\"https://colab.research.google.com/assets/colab-badge.svg\" alt=\"Open In Colab\"/></a>"
      ]
    },
    {
      "cell_type": "code",
      "execution_count": 1,
      "metadata": {
        "colab": {
          "base_uri": "https://localhost:8080/"
        },
        "id": "JoGZByAv_plQ",
        "outputId": "ef14b9bc-9349-4c42-a1c1-85c50afa5e55"
      },
      "outputs": [
        {
          "output_type": "stream",
          "name": "stdout",
          "text": [
            "3\n",
            "-1\n",
            "2\n",
            "0.5\n",
            "0\n",
            "1\n",
            "1\n"
          ]
        }
      ],
      "source": [
        "#operators\n",
        "a=1\n",
        "b=2\n",
        "print(a+b)\n",
        "print(a-b)\n",
        "print(a*b)\n",
        "print(a/b)\n",
        "print(a//b)\n",
        "print(a**b)\n",
        "print(a%b)"
      ]
    },
    {
      "cell_type": "code",
      "source": [
        "#comparision operators\n",
        "a==b\n",
        "a>b\n",
        "a>=b\n",
        "a<b\n",
        "a!=b"
      ],
      "metadata": {
        "colab": {
          "base_uri": "https://localhost:8080/"
        },
        "id": "cTJ3xkVIAo2y",
        "outputId": "c7fe46d0-0616-4802-c9b2-dcd47af03b1a"
      },
      "execution_count": 2,
      "outputs": [
        {
          "output_type": "execute_result",
          "data": {
            "text/plain": [
              "True"
            ]
          },
          "metadata": {},
          "execution_count": 2
        }
      ]
    },
    {
      "cell_type": "code",
      "source": [
        "#assignment operators\n",
        "a=10\n",
        "b=5\n",
        "c=a+b\n",
        "c-=a\n",
        "print(c)"
      ],
      "metadata": {
        "colab": {
          "base_uri": "https://localhost:8080/"
        },
        "id": "xxUeSaK5A-O4",
        "outputId": "fdefb302-50d2-4e96-8ea4-011adecbd1b3"
      },
      "execution_count": 5,
      "outputs": [
        {
          "output_type": "stream",
          "name": "stdout",
          "text": [
            "5\n"
          ]
        }
      ]
    },
    {
      "cell_type": "code",
      "source": [
        "#logical operators\n",
        "x=True\n",
        "y=False\n",
        "print(\"x and y is:\",x and y)\n",
        "print(\"x or y is\",x or y)\n",
        "print(\"not y is\",not y)"
      ],
      "metadata": {
        "colab": {
          "base_uri": "https://localhost:8080/"
        },
        "id": "7ezEnyabBw18",
        "outputId": "f46cb54a-6888-41e4-ebf3-a9ba18bc0ef3"
      },
      "execution_count": 10,
      "outputs": [
        {
          "output_type": "stream",
          "name": "stdout",
          "text": [
            "x and y is: False\n",
            "x or y is True\n",
            "not y is True\n"
          ]
        }
      ]
    },
    {
      "cell_type": "code",
      "source": [
        "#bitwise operators\n",
        "a=13 #1101\n",
        "b=14 #1110\n",
        "\n",
        "print(a&b)\n",
        "print(a|b)\n",
        "print(~a)\n",
        "print(a>>3)#right shift divides by 2, 3 times\n",
        "print(a<<4)#left shift multipliesby 2, 4 times\n",
        "#1101000-left shift of 13\n",
        "#1-right shift of 13"
      ],
      "metadata": {
        "colab": {
          "base_uri": "https://localhost:8080/"
        },
        "id": "GbWAFOxvCKUA",
        "outputId": "658fad4f-6576-4d9b-d843-b135f44cd623"
      },
      "execution_count": 12,
      "outputs": [
        {
          "output_type": "stream",
          "name": "stdout",
          "text": [
            "12\n",
            "15\n",
            "-14\n",
            "1\n",
            "104\n"
          ]
        }
      ]
    },
    {
      "cell_type": "code",
      "source": [
        "#membership operators\n",
        "x=\"hasifa\"\n",
        "print(\"c\" in x)"
      ],
      "metadata": {
        "colab": {
          "base_uri": "https://localhost:8080/"
        },
        "id": "dy_WpJk6EtHJ",
        "outputId": "3cadb9a1-4911-45bd-8263-2165a46a2767"
      },
      "execution_count": 13,
      "outputs": [
        {
          "output_type": "stream",
          "name": "stdout",
          "text": [
            "False\n"
          ]
        }
      ]
    },
    {
      "cell_type": "code",
      "source": [
        "#identity operators\n",
        "x1=5\n",
        "y1=5\n",
        "x2=\"hello\"\n",
        "y2=\"hello\"\n",
        "x3=[1,2,3]\n",
        "y3=[1,2,3]\n",
        "print(x1 is not y1)\n",
        "print(x2 is y2)\n",
        "print(x3 is y3)"
      ],
      "metadata": {
        "colab": {
          "base_uri": "https://localhost:8080/"
        },
        "id": "pURRBcL4FF5J",
        "outputId": "dd207022-8057-401a-a99e-65fd1236f4ea"
      },
      "execution_count": 14,
      "outputs": [
        {
          "output_type": "stream",
          "name": "stdout",
          "text": [
            "False\n",
            "True\n",
            "False\n"
          ]
        }
      ]
    },
    {
      "cell_type": "code",
      "source": [
        "#strings\n",
        "str=\"Gradstellar\"\n",
        "#indexing\n",
        "print(str[0])\n",
        "print(str[-1])"
      ],
      "metadata": {
        "colab": {
          "base_uri": "https://localhost:8080/"
        },
        "id": "UYACtgU_G5L9",
        "outputId": "f3ee493b-e178-493b-8d7d-74c9ecda1131"
      },
      "execution_count": 15,
      "outputs": [
        {
          "output_type": "stream",
          "name": "stdout",
          "text": [
            "G\n",
            "r\n"
          ]
        }
      ]
    },
    {
      "cell_type": "code",
      "source": [
        "#slicing\n",
        "str=\"Gradstellar\"\n",
        "print(str[0:5])\n",
        "print(str[::-1])\n",
        "print(str[0:7:2])\n",
        "print(str[::2])"
      ],
      "metadata": {
        "colab": {
          "base_uri": "https://localhost:8080/"
        },
        "id": "qbAUYh1OHJ6x",
        "outputId": "345dd0bb-7c77-4665-d0e2-b1faa1ae6b5f"
      },
      "execution_count": 29,
      "outputs": [
        {
          "output_type": "stream",
          "name": "stdout",
          "text": [
            "Grads\n",
            "ralletsdarG\n",
            "Gase\n",
            "Gaselr\n"
          ]
        }
      ]
    },
    {
      "cell_type": "code",
      "source": [
        "#string methods\n",
        "str=\"I am Hasifa\"\n",
        "print(str.upper())\n",
        "print(str.lower())\n",
        "print(str.capitalize())\n",
        "print(str.title())\n",
        "print(str.swapcase())\n",
        "str=\"     I am Hasi   \"\n",
        "print(str.lstrip())"
      ],
      "metadata": {
        "colab": {
          "base_uri": "https://localhost:8080/"
        },
        "id": "-0F5i9SDIkgt",
        "outputId": "f470a89a-3df3-46fc-b678-114600c66b7f"
      },
      "execution_count": 31,
      "outputs": [
        {
          "output_type": "stream",
          "name": "stdout",
          "text": [
            "I AM HASIFA\n",
            "i am hasifa\n",
            "I am hasifa\n",
            "I Am Hasifa\n",
            "i AM hASIFA\n",
            "I am Hasi   \n"
          ]
        }
      ]
    },
    {
      "cell_type": "code",
      "source": [
        "#string operations\n",
        "str1=\"hello\"\n",
        "str2=\"world\"\n",
        "print(str1+str2)"
      ],
      "metadata": {
        "colab": {
          "base_uri": "https://localhost:8080/"
        },
        "id": "w5AGyDgNJfn8",
        "outputId": "ecb600c8-02ba-437b-d9a5-ded3c51a0048"
      },
      "execution_count": 32,
      "outputs": [
        {
          "output_type": "stream",
          "name": "stdout",
          "text": [
            "helloworld\n"
          ]
        }
      ]
    },
    {
      "cell_type": "code",
      "source": [
        "#string formats\n",
        "name=\"hasifa\"\n",
        "language=\"Python\"\n",
        "year=2023\n",
        "print(name,\"is learning\",language,\"programming in\",year)\n",
        "#format\n",
        "print(\"{} is learning {} programming in {}\".format(name,language,year))\n",
        "print(\"{2} is learning {1} programming in {0}\".format(name,language,year))\n",
        "\n",
        "#placeholders\n",
        "print(\"%s is learning %s programming in %d\"%(name,language,year))\n",
        "#rawstring 'f'\n",
        "print(f\"{name} is learning {language} programming in {year}\")"
      ],
      "metadata": {
        "colab": {
          "base_uri": "https://localhost:8080/"
        },
        "id": "KHtCXXFXJonb",
        "outputId": "ab676f46-26da-4e8f-f66a-5b4de5026bbf"
      },
      "execution_count": 37,
      "outputs": [
        {
          "output_type": "stream",
          "name": "stdout",
          "text": [
            "hasifa is learning Python programming in 2023\n",
            "hasifa is learning Python programming in 2023\n",
            "2023 is learning Python programming in hasifa\n",
            "hasifa is learning Python programming in 2023\n",
            "hasifa is learning Python programming in 2023\n"
          ]
        }
      ]
    },
    {
      "cell_type": "code",
      "source": [
        "#lists\n",
        "my_list=[1,2,3]\n",
        "my_list1=[1,\"hello\",\"3.0\"]\n",
        "my_list2=[\"apple\",\"banana\",\"cherry\"]\n",
        "\n",
        "#indexing\n",
        "print(my_list[2])#indexing gives the elements as output \n",
        "print(my_list[-2])\n",
        "\n",
        "#slicing\n",
        "print(my_list[:3])\n",
        "print(my_list[1:2])#slicing gives a list as op\n"
      ],
      "metadata": {
        "colab": {
          "base_uri": "https://localhost:8080/"
        },
        "id": "FtOoCJ3uMImB",
        "outputId": "95fd0124-742d-4767-c473-1b98e2561c32"
      },
      "execution_count": 39,
      "outputs": [
        {
          "output_type": "stream",
          "name": "stdout",
          "text": [
            "3\n",
            "2\n",
            "[1, 2, 3]\n",
            "[2]\n"
          ]
        }
      ]
    },
    {
      "cell_type": "code",
      "source": [
        "#nested list\n",
        "n_list=[\"dragon fruit\",my_list,my_list2]\n",
        "print(n_list[2][1][0:4])\n",
        "print(n_list[0][:6])"
      ],
      "metadata": {
        "colab": {
          "base_uri": "https://localhost:8080/"
        },
        "id": "gh4tpZzmONVg",
        "outputId": "aa8cd2ff-9ea9-4aa4-f8e5-23265a3b8ceb"
      },
      "execution_count": 44,
      "outputs": [
        {
          "output_type": "stream",
          "name": "stdout",
          "text": [
            "bana\n",
            "dragon\n"
          ]
        }
      ]
    },
    {
      "cell_type": "code",
      "source": [
        "#list methods\n",
        "l1=[1,2,3,4,5]\n",
        "l2=l1\n",
        "l3=[1,2,3,4,5]\n",
        "print(\"l1==l2\",l1==l2)\n",
        "print(\"l1 is l2\",l1 is l2)\n",
        "print(\"l1==l3\",l1==l3)\n",
        "print(\"l1 is l3\",l1 is l3)\n",
        "print(id(l1))\n",
        "print(id(l2))\n",
        "print(id(l3))\n",
        "#== compares values of list\n",
        "# is compares addresses of the lists"
      ],
      "metadata": {
        "colab": {
          "base_uri": "https://localhost:8080/"
        },
        "id": "d_6NP-uURdSC",
        "outputId": "2aed3ffe-2c30-4422-8acb-d923ab1b7690"
      },
      "execution_count": 50,
      "outputs": [
        {
          "output_type": "stream",
          "name": "stdout",
          "text": [
            "l1==l2 True\n",
            "l1 is l2 True\n",
            "l1==l3 True\n",
            "l1 is l3 False\n",
            "140644049562432\n",
            "140644049562432\n",
            "140644049560832\n"
          ]
        }
      ]
    },
    {
      "cell_type": "code",
      "source": [
        "a=1\n",
        "b=1\n",
        "c=a\n",
        "d=b\n",
        "print(a==b)\n",
        "print( a is b)"
      ],
      "metadata": {
        "colab": {
          "base_uri": "https://localhost:8080/"
        },
        "id": "mx21uoZbTIS-",
        "outputId": "c6190c14-62bb-4129-db3c-aff9190b132d"
      },
      "execution_count": 47,
      "outputs": [
        {
          "output_type": "stream",
          "name": "stdout",
          "text": [
            "True\n",
            "True\n"
          ]
        }
      ]
    }
  ]
}